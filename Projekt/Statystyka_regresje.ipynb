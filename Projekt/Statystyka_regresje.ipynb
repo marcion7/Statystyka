{
 "cells": [
  {
   "cell_type": "code",
   "execution_count": 62,
   "id": "92ad8cce",
   "metadata": {
    "scrolled": true
   },
   "outputs": [
    {
     "data": {
      "text/html": [
       "<div>\n",
       "<style scoped>\n",
       "    .dataframe tbody tr th:only-of-type {\n",
       "        vertical-align: middle;\n",
       "    }\n",
       "\n",
       "    .dataframe tbody tr th {\n",
       "        vertical-align: top;\n",
       "    }\n",
       "\n",
       "    .dataframe thead th {\n",
       "        text-align: right;\n",
       "    }\n",
       "</style>\n",
       "<table border=\"1\" class=\"dataframe\">\n",
       "  <thead>\n",
       "    <tr style=\"text-align: right;\">\n",
       "      <th></th>\n",
       "      <th>Game_Name</th>\n",
       "      <th>Platform</th>\n",
       "      <th>Publisher</th>\n",
       "      <th>Developer</th>\n",
       "      <th>Genre</th>\n",
       "      <th>Rating</th>\n",
       "      <th>NA_Sales</th>\n",
       "      <th>EU_Sales</th>\n",
       "      <th>JP_Sales</th>\n",
       "      <th>Other_Sales</th>\n",
       "      <th>Critic_Score</th>\n",
       "      <th>Critic_Count</th>\n",
       "      <th>User_Score</th>\n",
       "      <th>User_Count</th>\n",
       "      <th>Release_Date</th>\n",
       "    </tr>\n",
       "  </thead>\n",
       "  <tbody>\n",
       "    <tr>\n",
       "      <th>0</th>\n",
       "      <td>New Super Luigi U</td>\n",
       "      <td>WiiU</td>\n",
       "      <td>Nintendo</td>\n",
       "      <td>Nintendo</td>\n",
       "      <td>Platform</td>\n",
       "      <td>E</td>\n",
       "      <td>1250000</td>\n",
       "      <td>620000</td>\n",
       "      <td>180000</td>\n",
       "      <td>180000</td>\n",
       "      <td>77</td>\n",
       "      <td>59</td>\n",
       "      <td>7.9</td>\n",
       "      <td>288</td>\n",
       "      <td>2013</td>\n",
       "    </tr>\n",
       "    <tr>\n",
       "      <th>1</th>\n",
       "      <td>Tetris DS</td>\n",
       "      <td>DS</td>\n",
       "      <td>Nintendo</td>\n",
       "      <td>Nintendo</td>\n",
       "      <td>Puzzle</td>\n",
       "      <td>E</td>\n",
       "      <td>630000</td>\n",
       "      <td>50000</td>\n",
       "      <td>1350000</td>\n",
       "      <td>80000</td>\n",
       "      <td>84</td>\n",
       "      <td>56</td>\n",
       "      <td>8.7</td>\n",
       "      <td>44</td>\n",
       "      <td>2006</td>\n",
       "    </tr>\n",
       "    <tr>\n",
       "      <th>2</th>\n",
       "      <td>Classic NES Series: Super Mario Bros.</td>\n",
       "      <td>GBA</td>\n",
       "      <td>Nintendo</td>\n",
       "      <td>Nintendo</td>\n",
       "      <td>Platform</td>\n",
       "      <td>E</td>\n",
       "      <td>0</td>\n",
       "      <td>0</td>\n",
       "      <td>1390000</td>\n",
       "      <td>30000</td>\n",
       "      <td>84</td>\n",
       "      <td>14</td>\n",
       "      <td>8.6</td>\n",
       "      <td>44</td>\n",
       "      <td>2004</td>\n",
       "    </tr>\n",
       "    <tr>\n",
       "      <th>3</th>\n",
       "      <td>Pikmin 2</td>\n",
       "      <td>GC</td>\n",
       "      <td>Nintendo</td>\n",
       "      <td>Nintendo</td>\n",
       "      <td>Strategy</td>\n",
       "      <td>E</td>\n",
       "      <td>480000</td>\n",
       "      <td>130000</td>\n",
       "      <td>560000</td>\n",
       "      <td>30000</td>\n",
       "      <td>90</td>\n",
       "      <td>54</td>\n",
       "      <td>9.1</td>\n",
       "      <td>137</td>\n",
       "      <td>2004</td>\n",
       "    </tr>\n",
       "    <tr>\n",
       "      <th>4</th>\n",
       "      <td>Mario vs. Donkey Kong</td>\n",
       "      <td>GBA</td>\n",
       "      <td>Nintendo</td>\n",
       "      <td>Nintendo</td>\n",
       "      <td>Puzzle</td>\n",
       "      <td>E</td>\n",
       "      <td>680000</td>\n",
       "      <td>250000</td>\n",
       "      <td>210000</td>\n",
       "      <td>20000</td>\n",
       "      <td>81</td>\n",
       "      <td>43</td>\n",
       "      <td>8.0</td>\n",
       "      <td>31</td>\n",
       "      <td>2004</td>\n",
       "    </tr>\n",
       "  </tbody>\n",
       "</table>\n",
       "</div>"
      ],
      "text/plain": [
       "                               Game_Name Platform Publisher Developer  \\\n",
       "0                      New Super Luigi U     WiiU  Nintendo  Nintendo   \n",
       "1                              Tetris DS       DS  Nintendo  Nintendo   \n",
       "2  Classic NES Series: Super Mario Bros.      GBA  Nintendo  Nintendo   \n",
       "3                               Pikmin 2       GC  Nintendo  Nintendo   \n",
       "4                  Mario vs. Donkey Kong      GBA  Nintendo  Nintendo   \n",
       "\n",
       "      Genre Rating  NA_Sales  EU_Sales  JP_Sales  Other_Sales  Critic_Score  \\\n",
       "0  Platform      E   1250000    620000    180000       180000            77   \n",
       "1    Puzzle      E    630000     50000   1350000        80000            84   \n",
       "2  Platform      E         0         0   1390000        30000            84   \n",
       "3  Strategy      E    480000    130000    560000        30000            90   \n",
       "4    Puzzle      E    680000    250000    210000        20000            81   \n",
       "\n",
       "   Critic_Count  User_Score  User_Count  Release_Date  \n",
       "0            59         7.9         288          2013  \n",
       "1            56         8.7          44          2006  \n",
       "2            14         8.6          44          2004  \n",
       "3            54         9.1         137          2004  \n",
       "4            43         8.0          31          2004  "
      ]
     },
     "execution_count": 62,
     "metadata": {},
     "output_type": "execute_result"
    }
   ],
   "source": [
    "import cx_Oracle\n",
    "import pandas as pd\n",
    "import numpy as np\n",
    "\n",
    "db_username_read = open('db_username.txt')\n",
    "db_username = db_username_read.read()\n",
    "db_username_read.close()\n",
    "\n",
    "db_password_read = open('db_password.txt')\n",
    "db_password = db_password_read.read()\n",
    "db_password_read.close()\n",
    "\n",
    "db_host_read = open('db_host.txt')\n",
    "db_host = db_host_read.read()\n",
    "db_host_read.close()\n",
    "\n",
    "connection = cx_Oracle.connect(user=db_username, password=db_password, dsn=db_host)\n",
    "cursor = connection.cursor()\n",
    "\n",
    "# Wyciągnięcie danych z bazy\n",
    "query = \"\"\"\n",
    "SELECT gs.game_name, p.platform_name, pub.publisher_name, d.developer_name, g.genre_name, r.rating_name, gs.na_sales, gs.eu_sales, gs.jp_sales, gs.other_sales, gs.critic_score, gs.critic_count, gs.user_score, gs.user_count, gs.release_date\n",
    "FROM game_sales gs\n",
    "JOIN platforms p ON gs.platform_id = p.platform_id\n",
    "JOIN publishers pub ON gs.publisher_id = pub.publisher_id\n",
    "JOIN developers d ON gs.developer_id = d.developer_id\n",
    "JOIN genres g ON gs.genre_id = g.genre_id\n",
    "JOIN ratings r ON gs.rating_id = r.rating_id\n",
    "\"\"\"\n",
    "cursor.execute(query)\n",
    "\n",
    "columns = ['Game_Name', 'Platform', 'Publisher', 'Developer', 'Genre', 'Rating', 'NA_Sales', 'EU_Sales', 'JP_Sales', 'Other_Sales', 'Critic_Score', 'Critic_Count', 'User_Score', 'User_Count', 'Release_Date']\n",
    "data = cursor.fetchall()\n",
    "df = pd.DataFrame(data, columns=columns)\n",
    "\n",
    "df.head()"
   ]
  },
  {
   "cell_type": "code",
   "execution_count": 63,
   "id": "6668befa",
   "metadata": {},
   "outputs": [],
   "source": [
    "df = df[(df['Platform'] == 'PS3') | (df['Platform'] == 'PS4') | (df['Platform'] == 'X360') | (df['Platform'] == 'XOne') | (df['Platform'] == 'Wii') | (df['Platform'] == 'WiiU') | (df['Platform'] == 'PC')]\n",
    "df = df[df['Release_Date'] > 2003]\n",
    "df['NA_Sales'] = np.log1p(df['NA_Sales'])\n",
    "df['EU_Sales'] = np.log1p(df['EU_Sales'])\n",
    "df['JP_Sales'] = np.log1p(df['JP_Sales'])\n",
    "df['Other_Sales'] = np.log1p(df['Other_Sales'])\n",
    "df['Total_Sales'] = df['NA_Sales'] + df['EU_Sales'] + df['JP_Sales'] + df['Other_Sales']"
   ]
  },
  {
   "cell_type": "code",
   "execution_count": 64,
   "id": "566c7621",
   "metadata": {},
   "outputs": [
    {
     "name": "stdout",
     "output_type": "stream",
     "text": [
      "Developers:  762 \n",
      "Publishers:  165 \n",
      "Ratings:  5 \n",
      "Genres:  12 \n",
      "Platforms:  7\n"
     ]
    }
   ],
   "source": [
    "devs = len(df['Developer'].unique())\n",
    "pubs = len(df['Publisher'].unique())\n",
    "rats = len(df['Rating'].unique())\n",
    "gens = len(df['Genre'].unique())\n",
    "plats = len(df['Platform'].unique())\n",
    "print('Developers: ', devs,'\\nPublishers: ', pubs,'\\nRatings: ', rats,'\\nGenres: ', gens,'\\nPlatforms: ', plats)"
   ]
  },
  {
   "cell_type": "code",
   "execution_count": 65,
   "id": "2b031217",
   "metadata": {},
   "outputs": [],
   "source": [
    "df = pd.get_dummies(data=df, columns=['Platform', 'Genre', 'Rating'])"
   ]
  },
  {
   "cell_type": "code",
   "execution_count": 66,
   "id": "241e2e03",
   "metadata": {},
   "outputs": [
    {
     "name": "stdout",
     "output_type": "stream",
     "text": [
      "(3174, 30)\n",
      "(3174, 1)\n"
     ]
    }
   ],
   "source": [
    "X = df[['Release_Date', 'Critic_Score', 'Critic_Count',\n",
    "       'User_Score', 'User_Count', 'Platform_PC', 'Platform_PS3',\n",
    "       'Platform_PS4', 'Platform_Wii', 'Platform_WiiU', 'Platform_X360',\n",
    "       'Platform_XOne', 'Genre_Action', 'Genre_Adventure', 'Genre_Fighting',\n",
    "       'Genre_Misc', 'Genre_Platform', 'Genre_Puzzle', 'Genre_Racing',\n",
    "       'Genre_Role-Playing', 'Genre_Shooter', 'Genre_Simulation',\n",
    "       'Genre_Sports', 'Genre_Strategy', 'Rating_E', 'Rating_E10+', 'Rating_M',\n",
    "       'Rating_RP', 'Rating_T', 'NA_Sales']]\n",
    "\n",
    "y = df[['Total_Sales']]\n",
    "\n",
    "print(X.shape)\n",
    "print(y.shape)"
   ]
  },
  {
   "cell_type": "code",
   "execution_count": 67,
   "id": "da234596",
   "metadata": {},
   "outputs": [],
   "source": [
    "y = np.ravel(y)\n",
    "\n",
    "from sklearn.model_selection import train_test_split\n",
    "\n",
    "X_train, X_test, Y_train, Y_test = train_test_split(X, y, test_size=0.2, random_state=42)"
   ]
  },
  {
   "cell_type": "code",
   "execution_count": 68,
   "id": "6babb07e",
   "metadata": {},
   "outputs": [
    {
     "name": "stdout",
     "output_type": "stream",
     "text": [
      "Best cross-validation score: 6.82\n",
      "Test RMSE score: 6.96\n",
      "Test R^2 score: 0.69\n"
     ]
    }
   ],
   "source": [
    "from sklearn.model_selection import GridSearchCV, cross_val_score\n",
    "from sklearn.metrics import mean_squared_error, r2_score\n",
    "from sklearn.linear_model import LinearRegression\n",
    "\n",
    "grid_search_lr = GridSearchCV(LinearRegression(), {}, scoring='neg_mean_squared_error',  cv=5)\n",
    "grid_search_lr.fit(X_train, Y_train)\n",
    "\n",
    "# Calculate the RMSE for the best cross-validation score\n",
    "lr_best_cross_val_score = (np.sqrt(-grid_search_lr.best_score_))\n",
    "print(\"Best cross-validation score: {:.2f}\".format(lr_best_cross_val_score))\n",
    "y_pred = grid_search_lr.predict(X_test)\n",
    "\n",
    "# Obliczenie RMSE dla zestawu testowego\n",
    "test_rmse = np.sqrt(mean_squared_error(Y_test, y_pred))\n",
    "print(\"Test RMSE score: {:.2f}\".format(test_rmse))\n",
    "\n",
    "# Obliczenie R^2 dla zestawu testowego\n",
    "r2_score_value = r2_score(Y_test, y_pred)\n",
    "print(\"Test R^2 score: {:.2f}\".format(r2_score_value))"
   ]
  },
  {
   "cell_type": "code",
   "execution_count": 69,
   "id": "fb293561",
   "metadata": {},
   "outputs": [
    {
     "name": "stdout",
     "output_type": "stream",
     "text": [
      "     Actual Total_Sales  Predicted Total_Sales  Difference  Difference_in_%\n",
      "50            37.323309              33.962632    3.360676         9.428722\n",
      "438           10.308986              26.531739  -16.222753        88.069674\n",
      "235           52.354690              37.948498   14.406191        31.906274\n",
      "422           55.959145              52.656290    3.302856         6.081743\n",
      "504           39.058397              30.879447    8.178950        23.389195\n",
      "609           31.974950              30.783722    1.191228         3.796217\n",
      "417           30.116094              27.238455    2.877639        10.034564\n",
      "54            21.254000              29.133450   -7.879450        31.275447\n",
      "192           38.652936              42.540166   -3.887230         9.575272\n",
      "509           35.463063              35.683610   -0.220547         0.619978\n"
     ]
    }
   ],
   "source": [
    "predicted_Total_Sales = pd.DataFrame({'Actual Total_Sales': Y_test, 'Predicted Total_Sales': y_pred})\n",
    "\n",
    "predicted_Total_Sales['Difference'] = predicted_Total_Sales['Actual Total_Sales'] - predicted_Total_Sales['Predicted Total_Sales']\n",
    "predicted_Total_Sales['Difference_in_%'] = np.abs(predicted_Total_Sales['Actual Total_Sales'] - predicted_Total_Sales['Predicted Total_Sales']) / ((predicted_Total_Sales['Actual Total_Sales'] + predicted_Total_Sales['Predicted Total_Sales']) / 2) * 100\n",
    "print(predicted_Total_Sales.sample(10))"
   ]
  },
  {
   "cell_type": "code",
   "execution_count": 70,
   "id": "0498f190",
   "metadata": {},
   "outputs": [],
   "source": [
    "param_grid_rf = {'n_estimators': [3, 10, 30, 50, 70], 'max_features': [2,4,6,8,10,12], 'max_depth': [2, 3, 5, 7, 9]}"
   ]
  },
  {
   "cell_type": "code",
   "execution_count": 71,
   "id": "99aa7ff2",
   "metadata": {},
   "outputs": [
    {
     "name": "stdout",
     "output_type": "stream",
     "text": [
      "Cross-validated RMSE score: 5.83\n",
      "Test RMSE score: 6.02\n",
      "Test R^2 score: 0.77\n"
     ]
    }
   ],
   "source": [
    "from sklearn.ensemble import RandomForestRegressor\n",
    "\n",
    "grid_search_rf = GridSearchCV(RandomForestRegressor(), param_grid_rf, n_jobs=-1, cv=5, scoring='neg_mean_squared_error')\n",
    "grid_search_rf.fit(X_train, Y_train)\n",
    "\n",
    "# Calculate the RMSE for the best cross-validation score\n",
    "rf_best_cross_val_score = np.sqrt(-grid_search_rf.best_score_)\n",
    "print(\"Cross-validated RMSE score: {:.2f}\".format(rf_best_cross_val_score))\n",
    "\n",
    "y_pred = grid_search_rf.predict(X_test)\n",
    "\n",
    "# Calculate the RMSE for the test set\n",
    "test_rmse = np.sqrt(mean_squared_error(Y_test, y_pred))\n",
    "print(\"Test RMSE score: {:.2f}\".format(test_rmse))\n",
    "\n",
    "# Calculating R^2 score for the test set\n",
    "r2_score_value = r2_score(Y_test, y_pred)\n",
    "print(\"Test R^2 score: {:.2f}\".format(r2_score_value))"
   ]
  },
  {
   "cell_type": "code",
   "execution_count": 72,
   "id": "1c3131b4",
   "metadata": {},
   "outputs": [
    {
     "name": "stdout",
     "output_type": "stream",
     "text": [
      "     Actual Total_Sales  Predicted Total_Sales  Difference  Difference_in_%\n",
      "311           49.743804              48.932174    0.811631         1.645042\n",
      "84            32.846036              27.553086    5.292950        17.526579\n",
      "220           42.508598              45.731538   -3.222940         7.304930\n",
      "232           46.510763              27.839098   18.671665        50.226496\n",
      "518           19.807100              21.044292   -1.237192         6.057036\n",
      "190           20.985738              25.006359   -4.020621        17.483966\n",
      "441           30.339225              26.056924    4.282301        15.186501\n",
      "321           21.059845              27.641068   -6.581223        27.027101\n",
      "224           33.760122              36.631130   -2.871008         8.157288\n",
      "399           10.308986              15.536356   -5.227370        40.451159\n"
     ]
    }
   ],
   "source": [
    "predicted_Total_Sales = pd.DataFrame({'Actual Total_Sales': Y_test, 'Predicted Total_Sales': y_pred})\n",
    "\n",
    "predicted_Total_Sales['Difference'] = predicted_Total_Sales['Actual Total_Sales'] - predicted_Total_Sales['Predicted Total_Sales']\n",
    "predicted_Total_Sales['Difference_in_%'] = np.abs(predicted_Total_Sales['Actual Total_Sales'] - predicted_Total_Sales['Predicted Total_Sales']) / ((predicted_Total_Sales['Actual Total_Sales'] + predicted_Total_Sales['Predicted Total_Sales']) / 2) * 100\n",
    "print(predicted_Total_Sales.sample(10))"
   ]
  },
  {
   "cell_type": "code",
   "execution_count": 73,
   "id": "d668fa55",
   "metadata": {},
   "outputs": [],
   "source": [
    "param_grid_gbr = {'n_estimators': [200, 225, 250, 275], 'max_features': [6, 8, 10, 12], 'max_depth': [5, 7, 9]}"
   ]
  },
  {
   "cell_type": "code",
   "execution_count": 74,
   "id": "ce20c03d",
   "metadata": {},
   "outputs": [
    {
     "name": "stdout",
     "output_type": "stream",
     "text": [
      "Cross-validated RMSE score: 5.71\n",
      "Test RMSE score: 5.87\n",
      "Test R^2 score: 0.78\n"
     ]
    }
   ],
   "source": [
    "from sklearn.ensemble import GradientBoostingRegressor\n",
    "\n",
    "grid_search_gbr = GridSearchCV(GradientBoostingRegressor(), param_grid_gbr, n_jobs=-1, cv=5, scoring='neg_mean_squared_error')\n",
    "grid_search_gbr.fit(X_train, Y_train)\n",
    "\n",
    "# Calculate the RMSE for the best cross-validation score\n",
    "gbr_best_cross_val_score = np.sqrt(-grid_search_gbr.best_score_)\n",
    "print(\"Cross-validated RMSE score: {:.2f}\".format(gbr_best_cross_val_score))\n",
    "\n",
    "y_pred = grid_search_gbr.predict(X_test)\n",
    "\n",
    "\n",
    "# Calculate the RMSE for the test set\n",
    "test_rmse = np.sqrt(mean_squared_error(Y_test, y_pred))\n",
    "print(\"Test RMSE score: {:.2f}\".format(test_rmse))\n",
    "\n",
    "# Calculating R^2 score for the test set\n",
    "r2_score_value = r2_score(Y_test, y_pred)\n",
    "print(\"Test R^2 score: {:.2f}\".format(r2_score_value))"
   ]
  },
  {
   "cell_type": "code",
   "execution_count": 75,
   "id": "ba471010",
   "metadata": {},
   "outputs": [
    {
     "name": "stdout",
     "output_type": "stream",
     "text": [
      "     Actual Total_Sales  Predicted Total_Sales  Difference  Difference_in_%\n",
      "155           19.113978              18.208933    0.905045         4.849807\n",
      "129           10.596660              16.856861   -6.260201        45.605815\n",
      "511           36.519109              35.050227    1.468882         4.104781\n",
      "358           38.227956              24.714270   13.513686        42.939968\n",
      "104           36.470610              43.210803   -6.740193        16.917856\n",
      "608           36.320505              34.432819    1.887685         5.335962\n",
      "619           19.807100              12.689117    7.117983        43.808073\n",
      "83            19.807100              15.168924    4.638176        26.522033\n",
      "147           44.062551              40.972135    3.090416         7.268601\n",
      "51            23.544672              33.570008  -10.025336        35.105987\n"
     ]
    }
   ],
   "source": [
    "predicted_Total_Sales = pd.DataFrame({'Actual Total_Sales': Y_test, 'Predicted Total_Sales': y_pred})\n",
    "\n",
    "predicted_Total_Sales['Difference'] = predicted_Total_Sales['Actual Total_Sales'] - predicted_Total_Sales['Predicted Total_Sales']\n",
    "predicted_Total_Sales['Difference_in_%'] = np.abs(predicted_Total_Sales['Actual Total_Sales'] - predicted_Total_Sales['Predicted Total_Sales']) / ((predicted_Total_Sales['Actual Total_Sales'] + predicted_Total_Sales['Predicted Total_Sales']) / 2) * 100\n",
    "print(predicted_Total_Sales.sample(10))"
   ]
  }
 ],
 "metadata": {
  "kernelspec": {
   "display_name": "Python 3 (ipykernel)",
   "language": "python",
   "name": "python3"
  },
  "language_info": {
   "codemirror_mode": {
    "name": "ipython",
    "version": 3
   },
   "file_extension": ".py",
   "mimetype": "text/x-python",
   "name": "python",
   "nbconvert_exporter": "python",
   "pygments_lexer": "ipython3",
   "version": "3.10.10"
  }
 },
 "nbformat": 4,
 "nbformat_minor": 5
}
