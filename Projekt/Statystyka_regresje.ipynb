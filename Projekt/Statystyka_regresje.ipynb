{
 "cells": [
  {
   "cell_type": "code",
   "execution_count": 14,
   "id": "92ad8cce",
   "metadata": {
    "scrolled": true
   },
   "outputs": [
    {
     "data": {
      "text/html": [
       "<div>\n",
       "<style scoped>\n",
       "    .dataframe tbody tr th:only-of-type {\n",
       "        vertical-align: middle;\n",
       "    }\n",
       "\n",
       "    .dataframe tbody tr th {\n",
       "        vertical-align: top;\n",
       "    }\n",
       "\n",
       "    .dataframe thead th {\n",
       "        text-align: right;\n",
       "    }\n",
       "</style>\n",
       "<table border=\"1\" class=\"dataframe\">\n",
       "  <thead>\n",
       "    <tr style=\"text-align: right;\">\n",
       "      <th></th>\n",
       "      <th>Game_Name</th>\n",
       "      <th>Platform</th>\n",
       "      <th>Publisher</th>\n",
       "      <th>Developer</th>\n",
       "      <th>Genre</th>\n",
       "      <th>Rating</th>\n",
       "      <th>NA_Sales</th>\n",
       "      <th>EU_Sales</th>\n",
       "      <th>JP_Sales</th>\n",
       "      <th>Other_Sales</th>\n",
       "      <th>Critic_Score</th>\n",
       "      <th>Critic_Count</th>\n",
       "      <th>User_Score</th>\n",
       "      <th>User_Count</th>\n",
       "      <th>Release_Date</th>\n",
       "    </tr>\n",
       "  </thead>\n",
       "  <tbody>\n",
       "    <tr>\n",
       "      <th>0</th>\n",
       "      <td>New Super Luigi U</td>\n",
       "      <td>WiiU</td>\n",
       "      <td>Nintendo</td>\n",
       "      <td>Nintendo</td>\n",
       "      <td>Platform</td>\n",
       "      <td>E</td>\n",
       "      <td>1250000</td>\n",
       "      <td>620000</td>\n",
       "      <td>180000</td>\n",
       "      <td>180000</td>\n",
       "      <td>77</td>\n",
       "      <td>59</td>\n",
       "      <td>7.9</td>\n",
       "      <td>288</td>\n",
       "      <td>2013</td>\n",
       "    </tr>\n",
       "    <tr>\n",
       "      <th>1</th>\n",
       "      <td>Tetris DS</td>\n",
       "      <td>DS</td>\n",
       "      <td>Nintendo</td>\n",
       "      <td>Nintendo</td>\n",
       "      <td>Puzzle</td>\n",
       "      <td>E</td>\n",
       "      <td>630000</td>\n",
       "      <td>50000</td>\n",
       "      <td>1350000</td>\n",
       "      <td>80000</td>\n",
       "      <td>84</td>\n",
       "      <td>56</td>\n",
       "      <td>8.7</td>\n",
       "      <td>44</td>\n",
       "      <td>2006</td>\n",
       "    </tr>\n",
       "    <tr>\n",
       "      <th>2</th>\n",
       "      <td>Classic NES Series: Super Mario Bros.</td>\n",
       "      <td>GBA</td>\n",
       "      <td>Nintendo</td>\n",
       "      <td>Nintendo</td>\n",
       "      <td>Platform</td>\n",
       "      <td>E</td>\n",
       "      <td>0</td>\n",
       "      <td>0</td>\n",
       "      <td>1390000</td>\n",
       "      <td>30000</td>\n",
       "      <td>84</td>\n",
       "      <td>14</td>\n",
       "      <td>8.6</td>\n",
       "      <td>44</td>\n",
       "      <td>2004</td>\n",
       "    </tr>\n",
       "    <tr>\n",
       "      <th>3</th>\n",
       "      <td>Pikmin 2</td>\n",
       "      <td>GC</td>\n",
       "      <td>Nintendo</td>\n",
       "      <td>Nintendo</td>\n",
       "      <td>Strategy</td>\n",
       "      <td>E</td>\n",
       "      <td>480000</td>\n",
       "      <td>130000</td>\n",
       "      <td>560000</td>\n",
       "      <td>30000</td>\n",
       "      <td>90</td>\n",
       "      <td>54</td>\n",
       "      <td>9.1</td>\n",
       "      <td>137</td>\n",
       "      <td>2004</td>\n",
       "    </tr>\n",
       "    <tr>\n",
       "      <th>4</th>\n",
       "      <td>Mario vs. Donkey Kong</td>\n",
       "      <td>GBA</td>\n",
       "      <td>Nintendo</td>\n",
       "      <td>Nintendo</td>\n",
       "      <td>Puzzle</td>\n",
       "      <td>E</td>\n",
       "      <td>680000</td>\n",
       "      <td>250000</td>\n",
       "      <td>210000</td>\n",
       "      <td>20000</td>\n",
       "      <td>81</td>\n",
       "      <td>43</td>\n",
       "      <td>8.0</td>\n",
       "      <td>31</td>\n",
       "      <td>2004</td>\n",
       "    </tr>\n",
       "  </tbody>\n",
       "</table>\n",
       "</div>"
      ],
      "text/plain": [
       "                               Game_Name Platform Publisher Developer  \\\n",
       "0                      New Super Luigi U     WiiU  Nintendo  Nintendo   \n",
       "1                              Tetris DS       DS  Nintendo  Nintendo   \n",
       "2  Classic NES Series: Super Mario Bros.      GBA  Nintendo  Nintendo   \n",
       "3                               Pikmin 2       GC  Nintendo  Nintendo   \n",
       "4                  Mario vs. Donkey Kong      GBA  Nintendo  Nintendo   \n",
       "\n",
       "      Genre Rating  NA_Sales  EU_Sales  JP_Sales  Other_Sales  Critic_Score  \\\n",
       "0  Platform      E   1250000    620000    180000       180000            77   \n",
       "1    Puzzle      E    630000     50000   1350000        80000            84   \n",
       "2  Platform      E         0         0   1390000        30000            84   \n",
       "3  Strategy      E    480000    130000    560000        30000            90   \n",
       "4    Puzzle      E    680000    250000    210000        20000            81   \n",
       "\n",
       "   Critic_Count  User_Score  User_Count  Release_Date  \n",
       "0            59         7.9         288          2013  \n",
       "1            56         8.7          44          2006  \n",
       "2            14         8.6          44          2004  \n",
       "3            54         9.1         137          2004  \n",
       "4            43         8.0          31          2004  "
      ]
     },
     "execution_count": 14,
     "metadata": {},
     "output_type": "execute_result"
    }
   ],
   "source": [
    "import cx_Oracle\n",
    "import pandas as pd\n",
    "import numpy as np\n",
    "\n",
    "db_username_read = open('db_username.txt')\n",
    "db_username = db_username_read.read()\n",
    "db_username_read.close()\n",
    "\n",
    "db_password_read = open('db_password.txt')\n",
    "db_password = db_password_read.read()\n",
    "db_password_read.close()\n",
    "\n",
    "db_host_read = open('db_host.txt')\n",
    "db_host = db_host_read.read()\n",
    "db_host_read.close()\n",
    "\n",
    "connection = cx_Oracle.connect(user=db_username, password=db_password, dsn=db_host)\n",
    "cursor = connection.cursor()\n",
    "\n",
    "# Wyciągnięcie danych z bazy\n",
    "query = \"\"\"\n",
    "SELECT gs.game_name, p.platform_name, pub.publisher_name, d.developer_name, g.genre_name, r.rating_name, gs.na_sales, gs.eu_sales, gs.jp_sales, gs.other_sales, gs.critic_score, gs.critic_count, gs.user_score, gs.user_count, gs.release_date\n",
    "FROM game_sales gs\n",
    "JOIN platforms p ON gs.platform_id = p.platform_id\n",
    "JOIN publishers pub ON gs.publisher_id = pub.publisher_id\n",
    "JOIN developers d ON gs.developer_id = d.developer_id\n",
    "JOIN genres g ON gs.genre_id = g.genre_id\n",
    "JOIN ratings r ON gs.rating_id = r.rating_id\n",
    "\"\"\"\n",
    "cursor.execute(query)\n",
    "\n",
    "columns = ['Game_Name', 'Platform', 'Publisher', 'Developer', 'Genre', 'Rating', 'NA_Sales', 'EU_Sales', 'JP_Sales', 'Other_Sales', 'Critic_Score', 'Critic_Count', 'User_Score', 'User_Count', 'Release_Date']\n",
    "data = cursor.fetchall()\n",
    "df = pd.DataFrame(data, columns=columns)\n",
    "\n",
    "df.head()"
   ]
  },
  {
   "cell_type": "code",
   "execution_count": 15,
   "id": "6668befa",
   "metadata": {},
   "outputs": [],
   "source": [
    "df = df[(df['Platform'] == 'PS3') | (df['Platform'] == 'PS4') | (df['Platform'] == 'X360') | (df['Platform'] == 'XOne') | (df['Platform'] == 'Wii') | (df['Platform'] == 'WiiU') | (df['Platform'] == 'PC')]\n",
    "df = df[df['Release_Date'] > 2003]\n",
    "df['Total_Sales'] = df['NA_Sales'] + df['EU_Sales'] + df['JP_Sales'] + df['Other_Sales']\n",
    "df['NA_Sales'] = np.log1p(df['NA_Sales'])\n",
    "df['EU_Sales'] = np.log1p(df['EU_Sales'])\n",
    "df['JP_Sales'] = np.log1p(df['JP_Sales'])\n",
    "df['Other_Sales'] = np.log1p(df['Other_Sales'])\n",
    "df['Total_Sales'] = np.log1p(df['Total_Sales'])"
   ]
  },
  {
   "cell_type": "code",
   "execution_count": 16,
   "id": "566c7621",
   "metadata": {},
   "outputs": [
    {
     "name": "stdout",
     "output_type": "stream",
     "text": [
      "Developers:  762 \n",
      "Publishers:  165 \n",
      "Ratings:  5 \n",
      "Genres:  12 \n",
      "Platforms:  7\n"
     ]
    }
   ],
   "source": [
    "devs = len(df['Developer'].unique())\n",
    "pubs = len(df['Publisher'].unique())\n",
    "rats = len(df['Rating'].unique())\n",
    "gens = len(df['Genre'].unique())\n",
    "plats = len(df['Platform'].unique())\n",
    "print('Developers: ', devs,'\\nPublishers: ', pubs,'\\nRatings: ', rats,'\\nGenres: ', gens,'\\nPlatforms: ', plats)"
   ]
  },
  {
   "cell_type": "code",
   "execution_count": 17,
   "id": "2b031217",
   "metadata": {},
   "outputs": [],
   "source": [
    "df = pd.get_dummies(data=df, columns=['Platform', 'Genre', 'Rating'])"
   ]
  },
  {
   "cell_type": "code",
   "execution_count": 18,
   "id": "241e2e03",
   "metadata": {},
   "outputs": [
    {
     "name": "stdout",
     "output_type": "stream",
     "text": [
      "(3174, 30)\n",
      "(3174, 1)\n"
     ]
    }
   ],
   "source": [
    "X = df[['Release_Date', 'Critic_Score', 'Critic_Count',\n",
    "       'User_Score', 'User_Count', 'Platform_PC', 'Platform_PS3',\n",
    "       'Platform_PS4', 'Platform_Wii', 'Platform_WiiU', 'Platform_X360',\n",
    "       'Platform_XOne', 'Genre_Action', 'Genre_Adventure', 'Genre_Fighting',\n",
    "       'Genre_Misc', 'Genre_Platform', 'Genre_Puzzle', 'Genre_Racing',\n",
    "       'Genre_Role-Playing', 'Genre_Shooter', 'Genre_Simulation',\n",
    "       'Genre_Sports', 'Genre_Strategy', 'Rating_E', 'Rating_E10+', 'Rating_M',\n",
    "       'Rating_RP', 'Rating_T', 'NA_Sales']]\n",
    "\n",
    "y = df[['Total_Sales']]\n",
    "\n",
    "print(X.shape)\n",
    "print(y.shape)"
   ]
  },
  {
   "cell_type": "code",
   "execution_count": 19,
   "id": "da234596",
   "metadata": {},
   "outputs": [],
   "source": [
    "y = np.ravel(y)\n",
    "\n",
    "from sklearn.model_selection import train_test_split\n",
    "\n",
    "X_train, X_test, Y_train, Y_test = train_test_split(X, y, test_size=0.2, random_state=42)"
   ]
  },
  {
   "cell_type": "code",
   "execution_count": 20,
   "id": "6babb07e",
   "metadata": {},
   "outputs": [
    {
     "name": "stdout",
     "output_type": "stream",
     "text": [
      "Best cross-validation score: 1.29\n",
      "Test RMSE score: 1695758.13\n",
      "Test R^2 score: 0.22\n"
     ]
    }
   ],
   "source": [
    "from sklearn.model_selection import GridSearchCV, cross_val_score\n",
    "from sklearn.metrics import mean_squared_error, r2_score\n",
    "from sklearn.linear_model import LinearRegression\n",
    "\n",
    "grid_search_lr = GridSearchCV(LinearRegression(), {}, scoring='neg_mean_squared_error',  cv=5)\n",
    "grid_search_lr.fit(X_train, Y_train)\n",
    "\n",
    "# Calculate the RMSE for the best cross-validation score\n",
    "lr_best_cross_val_score = (np.sqrt(-grid_search_lr.best_score_))\n",
    "print(\"Best cross-validation score: {:.2f}\".format(np.expm1(lr_best_cross_val_score)))\n",
    "y_pred = grid_search_lr.predict(X_test)\n",
    "\n",
    "# Convert predictions and actual values back to original scale\n",
    "y_pred_original_scale = np.expm1(y_pred)\n",
    "Y_test_original_scale = np.expm1(Y_test)\n",
    "\n",
    "# Obliczenie RMSE dla zestawu testowego\n",
    "test_rmse = np.sqrt(mean_squared_error(Y_test_original_scale, y_pred_original_scale))\n",
    "print(\"Test RMSE score: {:.2f}\".format(test_rmse))\n",
    "\n",
    "# Obliczenie R^2 dla zestawu testowego\n",
    "r2_score_value = r2_score(Y_test_original_scale, y_pred_original_scale)\n",
    "print(\"Test R^2 score: {:.2f}\".format(r2_score_value))"
   ]
  },
  {
   "cell_type": "code",
   "execution_count": 21,
   "id": "fb293561",
   "metadata": {},
   "outputs": [
    {
     "name": "stdout",
     "output_type": "stream",
     "text": [
      "   Actual Total_Sales  Predicted Total_Sales  Difference  Difference_in_%\n",
      "0             3009999                 833350     2176649       113.268350\n",
      "1               80000                 172172      -92172        73.102486\n",
      "2              100000                 226324     -126324        77.422439\n",
      "3              139999                 136312        3687         2.668732\n",
      "4              509999                 623194     -113195        19.978062\n",
      "5              219999                 172320       47679        24.306241\n",
      "6              379999                 242220      137779        44.286336\n",
      "7              339999                 174208      165791        64.484147\n",
      "8             6320000                5347492      972508        16.670386\n",
      "9              909999                 633538      276461        35.821752\n"
     ]
    }
   ],
   "source": [
    "ind = np.random.choice(Y_test_original_scale.shape[0], size=10, replace=False)\n",
    "\n",
    "predicted_Total_Sales = pd.DataFrame({\n",
    "    'Actual Total_Sales': Y_test_original_scale[ind].astype('int'),\n",
    "    'Predicted Total_Sales': y_pred_original_scale[ind].astype('int')\n",
    "})\n",
    "\n",
    "predicted_Total_Sales['Difference'] = predicted_Total_Sales['Actual Total_Sales'] - predicted_Total_Sales['Predicted Total_Sales']\n",
    "predicted_Total_Sales['Difference_in_%'] = np.abs(predicted_Total_Sales['Difference']) / ((predicted_Total_Sales['Actual Total_Sales'] + predicted_Total_Sales['Predicted Total_Sales']) / 2) * 100\n",
    "\n",
    "print(predicted_Total_Sales)"
   ]
  },
  {
   "cell_type": "code",
   "execution_count": 22,
   "id": "0498f190",
   "metadata": {},
   "outputs": [],
   "source": [
    "param_grid_rf = {'n_estimators': [3, 10, 30, 50, 70], 'max_features': [2,4,6,8,10,12], 'max_depth': [2, 3, 5, 7, 9]}"
   ]
  },
  {
   "cell_type": "code",
   "execution_count": 23,
   "id": "99aa7ff2",
   "metadata": {},
   "outputs": [
    {
     "name": "stdout",
     "output_type": "stream",
     "text": [
      "Cross-validated RMSE score: 0.68\n",
      "Test RMSE score: 941486.40\n",
      "Test R^2 score: 0.76\n"
     ]
    }
   ],
   "source": [
    "from sklearn.ensemble import RandomForestRegressor\n",
    "\n",
    "grid_search_rf = GridSearchCV(RandomForestRegressor(), param_grid_rf, n_jobs=-1, cv=5, scoring='neg_mean_squared_error')\n",
    "grid_search_rf.fit(X_train, Y_train)\n",
    "\n",
    "# Calculate the RMSE for the best cross-validation score\n",
    "rf_best_cross_val_score = np.sqrt(-grid_search_rf.best_score_)\n",
    "print(\"Cross-validated RMSE score: {:.2f}\".format(np.expm1(rf_best_cross_val_score)))\n",
    "\n",
    "y_pred = grid_search_rf.predict(X_test)\n",
    "\n",
    "# Convert predictions and actual values back to original scale\n",
    "y_pred_original_scale = np.expm1(y_pred)\n",
    "Y_test_original_scale = np.expm1(Y_test)\n",
    "\n",
    "# Calculate the RMSE on the original scale\n",
    "test_rmse = np.sqrt(mean_squared_error(Y_test_original_scale, y_pred_original_scale))\n",
    "print(\"Test RMSE score: {:.2f}\".format(test_rmse))\n",
    "\n",
    "# Calculating R^2 score for the test set\n",
    "r2_score_value = r2_score(Y_test_original_scale, y_pred_original_scale)\n",
    "print(\"Test R^2 score: {:.2f}\".format(r2_score_value))"
   ]
  },
  {
   "cell_type": "code",
   "execution_count": 24,
   "id": "1c3131b4",
   "metadata": {},
   "outputs": [
    {
     "name": "stdout",
     "output_type": "stream",
     "text": [
      "   Actual Total_Sales  Predicted Total_Sales  Difference  Difference_in_%\n",
      "0             3009999                1819760     1190239        49.287718\n",
      "1               80000                  55716       24284        35.786495\n",
      "2              100000                 133443      -33443        28.651962\n",
      "3              139999                 132717        7282         5.340354\n",
      "4              509999                 653935     -143936        24.732674\n",
      "5              219999                 176428       43571        21.981853\n",
      "6              379999                 328125       51874        14.651106\n",
      "7              339999                 377802      -37803        10.533003\n",
      "8             6320000                5950682      369318         6.019519\n",
      "9              909999                 974667      -64668         6.862542\n"
     ]
    }
   ],
   "source": [
    "predicted_Total_Sales = pd.DataFrame({\n",
    "    'Actual Total_Sales': Y_test_original_scale[ind].astype('int'),\n",
    "    'Predicted Total_Sales': y_pred_original_scale[ind].astype('int')\n",
    "})\n",
    "\n",
    "predicted_Total_Sales['Difference'] = predicted_Total_Sales['Actual Total_Sales'] - predicted_Total_Sales['Predicted Total_Sales']\n",
    "predicted_Total_Sales['Difference_in_%'] = np.abs(predicted_Total_Sales['Difference']) / ((predicted_Total_Sales['Actual Total_Sales'] + predicted_Total_Sales['Predicted Total_Sales']) / 2) * 100\n",
    "\n",
    "print(predicted_Total_Sales)"
   ]
  },
  {
   "cell_type": "code",
   "execution_count": 25,
   "id": "d668fa55",
   "metadata": {},
   "outputs": [],
   "source": [
    "param_grid_gbr = {'n_estimators': [200, 225, 250, 275], 'max_features': [6, 8, 10, 12], 'max_depth': [5, 7, 9]}"
   ]
  },
  {
   "cell_type": "code",
   "execution_count": 26,
   "id": "ce20c03d",
   "metadata": {},
   "outputs": [
    {
     "name": "stdout",
     "output_type": "stream",
     "text": [
      "Cross-validated RMSE score: 0.64\n",
      "Test RMSE score: 847463.50\n",
      "Test R^2 score: 0.81\n"
     ]
    }
   ],
   "source": [
    "from sklearn.ensemble import GradientBoostingRegressor\n",
    "\n",
    "grid_search_gbr = GridSearchCV(GradientBoostingRegressor(), param_grid_gbr, n_jobs=-1, cv=5, scoring='neg_mean_squared_error')\n",
    "grid_search_gbr.fit(X_train, Y_train)\n",
    "\n",
    "# Calculate the RMSE for the best cross-validation score\n",
    "gbr_best_cross_val_score = np.sqrt(-grid_search_gbr.best_score_)\n",
    "print(\"Cross-validated RMSE score: {:.2f}\".format(np.expm1(gbr_best_cross_val_score)))\n",
    "\n",
    "y_pred = grid_search_gbr.predict(X_test)\n",
    "\n",
    "# Convert predictions and actual values back to original scale\n",
    "y_pred_original_scale = np.expm1(y_pred)\n",
    "Y_test_original_scale = np.expm1(Y_test)\n",
    "\n",
    "# Calculate the RMSE on the original scale\n",
    "test_rmse = np.sqrt(mean_squared_error(Y_test_original_scale, y_pred_original_scale))\n",
    "print(\"Test RMSE score: {:.2f}\".format(test_rmse))\n",
    "\n",
    "# Calculating R^2 score for the test set\n",
    "r2_score_value = r2_score(Y_test_original_scale, y_pred_original_scale)\n",
    "print(\"Test R^2 score: {:.2f}\".format(r2_score_value))"
   ]
  },
  {
   "cell_type": "code",
   "execution_count": 27,
   "id": "ba471010",
   "metadata": {},
   "outputs": [
    {
     "name": "stdout",
     "output_type": "stream",
     "text": [
      "   Actual Total_Sales  Predicted Total_Sales  Difference  Difference_in_%\n",
      "0             3009999                2241092      768907        29.285609\n",
      "1               80000                  61943       18057        25.442607\n",
      "2              100000                 116428      -16428        15.181030\n",
      "3              139999                 149533       -9534         6.585801\n",
      "4              509999                 696077     -186078        30.856762\n",
      "5              219999                 142881       77118        42.503307\n",
      "6              379999                 493799     -113800        26.047210\n",
      "7              339999                 335217        4782         1.416436\n",
      "8             6320000                6466061     -146061         2.284691\n",
      "9              909999                1143916     -233917        22.777671\n"
     ]
    }
   ],
   "source": [
    "predicted_Total_Sales = pd.DataFrame({\n",
    "    'Actual Total_Sales': Y_test_original_scale[ind].astype('int'),\n",
    "    'Predicted Total_Sales': y_pred_original_scale[ind].astype('int')\n",
    "})\n",
    "\n",
    "predicted_Total_Sales['Difference'] = predicted_Total_Sales['Actual Total_Sales'] - predicted_Total_Sales['Predicted Total_Sales']\n",
    "predicted_Total_Sales['Difference_in_%'] = np.abs(predicted_Total_Sales['Difference']) / ((predicted_Total_Sales['Actual Total_Sales'] + predicted_Total_Sales['Predicted Total_Sales']) / 2) * 100\n",
    "\n",
    "print(predicted_Total_Sales)"
   ]
  },
  {
   "cell_type": "code",
   "execution_count": 28,
   "id": "0494fda4",
   "metadata": {},
   "outputs": [],
   "source": [
    "X = df[['Release_Date', 'Critic_Score', 'Critic_Count',\n",
    "       'User_Score', 'User_Count', 'Platform_PC', 'Platform_PS3',\n",
    "       'Platform_PS4', 'Platform_Wii', 'Platform_WiiU', 'Platform_X360',\n",
    "       'Platform_XOne', 'Genre_Action', 'Genre_Adventure', 'Genre_Fighting',\n",
    "       'Genre_Misc', 'Genre_Platform', 'Genre_Puzzle', 'Genre_Racing',\n",
    "       'Genre_Role-Playing', 'Genre_Shooter', 'Genre_Simulation',\n",
    "       'Genre_Sports', 'Genre_Strategy', 'Rating_E', 'Rating_E10+', 'Rating_M',\n",
    "       'Rating_RP', 'Rating_T']]\n",
    "\n",
    "y = df[['Total_Sales']]"
   ]
  },
  {
   "cell_type": "code",
   "execution_count": 29,
   "id": "ad990b5a",
   "metadata": {},
   "outputs": [],
   "source": [
    "y = np.ravel(y)\n",
    "\n",
    "X_train, X_test, Y_train, Y_test = train_test_split(X, y, test_size=0.2, random_state=42)"
   ]
  },
  {
   "cell_type": "code",
   "execution_count": 30,
   "id": "fd1c6f3f",
   "metadata": {},
   "outputs": [
    {
     "name": "stdout",
     "output_type": "stream",
     "text": [
      "Cross-validated RMSE score: 1.32\n",
      "Test RMSE score: 1395096.62\n",
      "Test R^2 score: 0.48\n"
     ]
    }
   ],
   "source": [
    "grid_search_gbr = GridSearchCV(GradientBoostingRegressor(), param_grid_gbr, n_jobs=-1, cv=5, scoring='neg_mean_squared_error')\n",
    "grid_search_gbr.fit(X_train, Y_train)\n",
    "\n",
    "# Calculate the RMSE for the best cross-validation score\n",
    "gbr_best_cross_val_score = np.sqrt(-grid_search_gbr.best_score_)\n",
    "print(\"Cross-validated RMSE score: {:.2f}\".format(np.expm1(gbr_best_cross_val_score)))\n",
    "\n",
    "y_pred = grid_search_gbr.predict(X_test)\n",
    "\n",
    "# Convert predictions and actual values back to original scale\n",
    "y_pred_original_scale = np.expm1(y_pred)\n",
    "Y_test_original_scale = np.expm1(Y_test)\n",
    "\n",
    "# Calculate the RMSE on the original scale\n",
    "test_rmse = np.sqrt(mean_squared_error(Y_test_original_scale, y_pred_original_scale))\n",
    "print(\"Test RMSE score: {:.2f}\".format(test_rmse))\n",
    "\n",
    "# Calculating R^2 score for the test set\n",
    "r2_score_value = r2_score(Y_test_original_scale, y_pred_original_scale)\n",
    "print(\"Test R^2 score: {:.2f}\".format(r2_score_value))"
   ]
  },
  {
   "cell_type": "code",
   "execution_count": 31,
   "id": "75779ce0",
   "metadata": {},
   "outputs": [
    {
     "name": "stdout",
     "output_type": "stream",
     "text": [
      "   Actual Total_Sales  Predicted Total_Sales  Difference  Difference_in_%\n",
      "0             3009999                2394535      615464        22.775840\n",
      "1               80000                  65191       14809        20.399336\n",
      "2              100000                 202867     -102867        67.928827\n",
      "3              139999                 189977      -49978        30.291900\n",
      "4              509999                 452034       57965        12.050522\n",
      "5              219999                 292892      -72893        28.424363\n",
      "6              379999                 313132       66867        19.294188\n",
      "7              339999                 116093      223906        98.184577\n",
      "8             6320000                6906486     -586486         8.868357\n",
      "9              909999                1189407     -279408        26.617815\n"
     ]
    }
   ],
   "source": [
    "predicted_Total_Sales = pd.DataFrame({\n",
    "    'Actual Total_Sales': Y_test_original_scale[ind].astype('int'),\n",
    "    'Predicted Total_Sales': y_pred_original_scale[ind].astype('int')\n",
    "})\n",
    "\n",
    "predicted_Total_Sales['Difference'] = predicted_Total_Sales['Actual Total_Sales'] - predicted_Total_Sales['Predicted Total_Sales']\n",
    "predicted_Total_Sales['Difference_in_%'] = np.abs(predicted_Total_Sales['Difference']) / ((predicted_Total_Sales['Actual Total_Sales'] + predicted_Total_Sales['Predicted Total_Sales']) / 2) * 100\n",
    "\n",
    "print(predicted_Total_Sales)"
   ]
  },
  {
   "cell_type": "code",
   "execution_count": 32,
   "id": "57588269",
   "metadata": {},
   "outputs": [],
   "source": [
    "X = df[['Release_Date', 'Critic_Score', 'Critic_Count',\n",
    "       'User_Score', 'User_Count', 'Platform_PC', 'Platform_PS3',\n",
    "       'Platform_PS4', 'Platform_Wii', 'Platform_WiiU', 'Platform_X360',\n",
    "       'Platform_XOne', 'Genre_Action', 'Genre_Adventure', 'Genre_Fighting',\n",
    "       'Genre_Misc', 'Genre_Platform', 'Genre_Puzzle', 'Genre_Racing',\n",
    "       'Genre_Role-Playing', 'Genre_Shooter', 'Genre_Simulation',\n",
    "       'Genre_Sports', 'Genre_Strategy', 'Rating_E', 'Rating_E10+', 'Rating_M',\n",
    "       'Rating_RP', 'Rating_T', 'NA_Sales']]\n",
    "\n",
    "y = df[['EU_Sales']]"
   ]
  },
  {
   "cell_type": "code",
   "execution_count": 33,
   "id": "4528bb7e",
   "metadata": {},
   "outputs": [],
   "source": [
    "y = np.ravel(y)\n",
    "\n",
    "X_train, X_test, Y_train, Y_test = train_test_split(X, y, test_size=0.2, random_state=42)"
   ]
  },
  {
   "cell_type": "code",
   "execution_count": 34,
   "id": "20413e3e",
   "metadata": {},
   "outputs": [
    {
     "name": "stdout",
     "output_type": "stream",
     "text": [
      "Cross-validated RMSE score: 21.39\n",
      "Test RMSE score: 485550.16\n",
      "Test R^2 score: 0.55\n"
     ]
    }
   ],
   "source": [
    "grid_search_gbr = GridSearchCV(GradientBoostingRegressor(), param_grid_gbr, n_jobs=-1, cv=5, scoring='neg_mean_squared_error')\n",
    "grid_search_gbr.fit(X_train, Y_train)\n",
    "\n",
    "# Calculate the RMSE for the best cross-validation score\n",
    "gbr_best_cross_val_score = np.sqrt(-grid_search_gbr.best_score_)\n",
    "print(\"Cross-validated RMSE score: {:.2f}\".format(np.expm1(gbr_best_cross_val_score)))\n",
    "\n",
    "y_pred = grid_search_gbr.predict(X_test)\n",
    "\n",
    "# Convert predictions and actual values back to original scale\n",
    "y_pred_original_scale = np.expm1(y_pred)\n",
    "Y_test_original_scale = np.expm1(Y_test)\n",
    "\n",
    "# Calculate the RMSE on the original scale\n",
    "test_rmse = np.sqrt(mean_squared_error(Y_test_original_scale, y_pred_original_scale))\n",
    "print(\"Test RMSE score: {:.2f}\".format(test_rmse))\n",
    "\n",
    "# Calculating R^2 score for the test set\n",
    "r2_score_value = r2_score(Y_test_original_scale, y_pred_original_scale)\n",
    "print(\"Test R^2 score: {:.2f}\".format(r2_score_value))"
   ]
  },
  {
   "cell_type": "code",
   "execution_count": 35,
   "id": "4bc473be",
   "metadata": {},
   "outputs": [
    {
     "name": "stdout",
     "output_type": "stream",
     "text": [
      "   Actual EU_Sales  Predicted EU_Sales  Difference  Difference_in_%\n",
      "0           189999               35979      154020       136.314154\n",
      "1           100000              128678      -28678        25.081556\n",
      "2           830000              258172      571828       105.098826\n",
      "3          1069999              899036      170963        17.365156\n",
      "4           790000              801689      -11689         1.468754\n",
      "5            40000               90426      -50426        77.325073\n",
      "6           150000               18790      131210       155.471296\n",
      "7          1140000              120402     1019598       161.789334\n",
      "8            10000               21756      -11756        74.039552\n",
      "9           230000              102826      127174        76.420712\n"
     ]
    }
   ],
   "source": [
    "ind = np.random.choice(Y_test_original_scale.shape[0], size=10, replace=False)\n",
    "\n",
    "predicted_EU_Sales = pd.DataFrame({\n",
    "    'Actual EU_Sales': Y_test_original_scale[ind].astype('int'),\n",
    "    'Predicted EU_Sales': y_pred_original_scale[ind].astype('int')\n",
    "})\n",
    "\n",
    "predicted_EU_Sales['Difference'] = predicted_EU_Sales['Actual EU_Sales'] - predicted_EU_Sales['Predicted EU_Sales']\n",
    "predicted_EU_Sales['Difference_in_%'] = np.abs(predicted_EU_Sales['Difference']) / ((predicted_EU_Sales['Actual EU_Sales'] + predicted_EU_Sales['Predicted EU_Sales']) / 2) * 100\n",
    "\n",
    "print(predicted_EU_Sales)"
   ]
  }
 ],
 "metadata": {
  "kernelspec": {
   "display_name": "Python 3 (ipykernel)",
   "language": "python",
   "name": "python3"
  },
  "language_info": {
   "codemirror_mode": {
    "name": "ipython",
    "version": 3
   },
   "file_extension": ".py",
   "mimetype": "text/x-python",
   "name": "python",
   "nbconvert_exporter": "python",
   "pygments_lexer": "ipython3",
   "version": "3.10.10"
  }
 },
 "nbformat": 4,
 "nbformat_minor": 5
}
