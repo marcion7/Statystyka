{
 "cells": [
  {
   "cell_type": "code",
   "execution_count": 16,
   "id": "6549ba66",
   "metadata": {},
   "outputs": [
    {
     "data": {
      "text/html": [
       "<div>\n",
       "<style scoped>\n",
       "    .dataframe tbody tr th:only-of-type {\n",
       "        vertical-align: middle;\n",
       "    }\n",
       "\n",
       "    .dataframe tbody tr th {\n",
       "        vertical-align: top;\n",
       "    }\n",
       "\n",
       "    .dataframe thead th {\n",
       "        text-align: right;\n",
       "    }\n",
       "</style>\n",
       "<table border=\"1\" class=\"dataframe\">\n",
       "  <thead>\n",
       "    <tr style=\"text-align: right;\">\n",
       "      <th></th>\n",
       "      <th>Game_Name</th>\n",
       "      <th>Platform</th>\n",
       "      <th>Publisher</th>\n",
       "      <th>Developer</th>\n",
       "      <th>Genre</th>\n",
       "      <th>Rating</th>\n",
       "      <th>NA_Sales</th>\n",
       "      <th>EU_Sales</th>\n",
       "      <th>JP_Sales</th>\n",
       "      <th>Other_Sales</th>\n",
       "      <th>Critic_Score</th>\n",
       "      <th>Critic_Count</th>\n",
       "      <th>User_Score</th>\n",
       "      <th>User_Count</th>\n",
       "      <th>Release_Date</th>\n",
       "    </tr>\n",
       "  </thead>\n",
       "  <tbody>\n",
       "    <tr>\n",
       "      <th>0</th>\n",
       "      <td>New Super Luigi U</td>\n",
       "      <td>WiiU</td>\n",
       "      <td>Nintendo</td>\n",
       "      <td>Nintendo</td>\n",
       "      <td>Platform</td>\n",
       "      <td>E</td>\n",
       "      <td>1250000</td>\n",
       "      <td>620000</td>\n",
       "      <td>180000</td>\n",
       "      <td>180000</td>\n",
       "      <td>77</td>\n",
       "      <td>59</td>\n",
       "      <td>7.9</td>\n",
       "      <td>288</td>\n",
       "      <td>2013</td>\n",
       "    </tr>\n",
       "    <tr>\n",
       "      <th>1</th>\n",
       "      <td>Tetris DS</td>\n",
       "      <td>DS</td>\n",
       "      <td>Nintendo</td>\n",
       "      <td>Nintendo</td>\n",
       "      <td>Puzzle</td>\n",
       "      <td>E</td>\n",
       "      <td>630000</td>\n",
       "      <td>50000</td>\n",
       "      <td>1350000</td>\n",
       "      <td>80000</td>\n",
       "      <td>84</td>\n",
       "      <td>56</td>\n",
       "      <td>8.7</td>\n",
       "      <td>44</td>\n",
       "      <td>2006</td>\n",
       "    </tr>\n",
       "    <tr>\n",
       "      <th>2</th>\n",
       "      <td>Classic NES Series: Super Mario Bros.</td>\n",
       "      <td>GBA</td>\n",
       "      <td>Nintendo</td>\n",
       "      <td>Nintendo</td>\n",
       "      <td>Platform</td>\n",
       "      <td>E</td>\n",
       "      <td>0</td>\n",
       "      <td>0</td>\n",
       "      <td>1390000</td>\n",
       "      <td>30000</td>\n",
       "      <td>84</td>\n",
       "      <td>14</td>\n",
       "      <td>8.6</td>\n",
       "      <td>44</td>\n",
       "      <td>2004</td>\n",
       "    </tr>\n",
       "    <tr>\n",
       "      <th>3</th>\n",
       "      <td>Pikmin 2</td>\n",
       "      <td>GC</td>\n",
       "      <td>Nintendo</td>\n",
       "      <td>Nintendo</td>\n",
       "      <td>Strategy</td>\n",
       "      <td>E</td>\n",
       "      <td>480000</td>\n",
       "      <td>130000</td>\n",
       "      <td>560000</td>\n",
       "      <td>30000</td>\n",
       "      <td>90</td>\n",
       "      <td>54</td>\n",
       "      <td>9.1</td>\n",
       "      <td>137</td>\n",
       "      <td>2004</td>\n",
       "    </tr>\n",
       "    <tr>\n",
       "      <th>4</th>\n",
       "      <td>Mario vs. Donkey Kong</td>\n",
       "      <td>GBA</td>\n",
       "      <td>Nintendo</td>\n",
       "      <td>Nintendo</td>\n",
       "      <td>Puzzle</td>\n",
       "      <td>E</td>\n",
       "      <td>680000</td>\n",
       "      <td>250000</td>\n",
       "      <td>210000</td>\n",
       "      <td>20000</td>\n",
       "      <td>81</td>\n",
       "      <td>43</td>\n",
       "      <td>8.0</td>\n",
       "      <td>31</td>\n",
       "      <td>2004</td>\n",
       "    </tr>\n",
       "  </tbody>\n",
       "</table>\n",
       "</div>"
      ],
      "text/plain": [
       "                               Game_Name Platform Publisher Developer  \\\n",
       "0                      New Super Luigi U     WiiU  Nintendo  Nintendo   \n",
       "1                              Tetris DS       DS  Nintendo  Nintendo   \n",
       "2  Classic NES Series: Super Mario Bros.      GBA  Nintendo  Nintendo   \n",
       "3                               Pikmin 2       GC  Nintendo  Nintendo   \n",
       "4                  Mario vs. Donkey Kong      GBA  Nintendo  Nintendo   \n",
       "\n",
       "      Genre Rating  NA_Sales  EU_Sales  JP_Sales  Other_Sales  Critic_Score  \\\n",
       "0  Platform      E   1250000    620000    180000       180000            77   \n",
       "1    Puzzle      E    630000     50000   1350000        80000            84   \n",
       "2  Platform      E         0         0   1390000        30000            84   \n",
       "3  Strategy      E    480000    130000    560000        30000            90   \n",
       "4    Puzzle      E    680000    250000    210000        20000            81   \n",
       "\n",
       "   Critic_Count  User_Score  User_Count  Release_Date  \n",
       "0            59         7.9         288          2013  \n",
       "1            56         8.7          44          2006  \n",
       "2            14         8.6          44          2004  \n",
       "3            54         9.1         137          2004  \n",
       "4            43         8.0          31          2004  "
      ]
     },
     "execution_count": 16,
     "metadata": {},
     "output_type": "execute_result"
    }
   ],
   "source": [
    "import cx_Oracle\n",
    "import pandas as pd\n",
    "\n",
    "\n",
    "db_username_read = open('db_username.txt')\n",
    "db_username = db_username_read.read()\n",
    "db_username_read.close()\n",
    "\n",
    "db_password_read = open('db_password.txt')\n",
    "db_password = db_password_read.read()\n",
    "db_password_read.close()\n",
    "\n",
    "db_host_read = open('db_host.txt')\n",
    "db_host = db_host_read.read()\n",
    "db_host_read.close()\n",
    "\n",
    "connection = cx_Oracle.connect(user=db_username, password=db_password, dsn=db_host)\n",
    "cursor = connection.cursor()\n",
    "\n",
    "# Wyciągnięcie danych z bazy\n",
    "query = \"\"\"\n",
    "SELECT gs.game_name, p.platform_name, pub.publisher_name, d.developer_name, g.genre_name, r.rating_name, gs.na_sales, gs.eu_sales, gs.jp_sales, gs.other_sales, gs.critic_score, gs.critic_count, gs.user_score, gs.user_count, gs.release_date\n",
    "FROM game_sales gs\n",
    "JOIN platforms p ON gs.platform_id = p.platform_id\n",
    "JOIN publishers pub ON gs.publisher_id = pub.publisher_id\n",
    "JOIN developers d ON gs.developer_id = d.developer_id\n",
    "JOIN genres g ON gs.genre_id = g.genre_id\n",
    "JOIN ratings r ON gs.rating_id = r.rating_id\n",
    "\"\"\"\n",
    "cursor.execute(query)\n",
    "\n",
    "columns = ['Game_Name', 'Platform', 'Publisher', 'Developer', 'Genre', 'Rating', 'NA_Sales', 'EU_Sales', 'JP_Sales', 'Other_Sales', 'Critic_Score', 'Critic_Count', 'User_Score', 'User_Count', 'Release_Date']\n",
    "data = cursor.fetchall()\n",
    "df = pd.DataFrame(data, columns=columns)\n",
    "\n",
    "df.head()"
   ]
  },
  {
   "cell_type": "code",
   "execution_count": 17,
   "id": "05c85018",
   "metadata": {},
   "outputs": [
    {
     "name": "stdout",
     "output_type": "stream",
     "text": [
      "Kolumna: NA_Sales\n",
      "Test Shapiro-Wilka: ShapiroResult(statistic=0.32624709606170654, pvalue=0.0)\n",
      "Test Kołomogorowa – Smirnowa: KstestResult(statistic=0.9204395604395604, pvalue=0.0, statistic_location=10000, statistic_sign=-1)\n",
      "Test Lillieforsa: (0.34171641057249014, 0.0009999999999998899)\n",
      "\n",
      "Kolumna: EU_Sales\n",
      "Test Shapiro-Wilka: ShapiroResult(statistic=0.2929936647415161, pvalue=0.0)\n",
      "Test Kołomogorowa – Smirnowa: KstestResult(statistic=0.8644688644688645, pvalue=0.0, statistic_location=10000, statistic_sign=-1)\n",
      "Test Lillieforsa: (0.3656158046873703, 0.0009999999999998899)\n",
      "\n",
      "Kolumna: Critic_Score\n",
      "Test Shapiro-Wilka: ShapiroResult(statistic=0.9636805653572083, pvalue=2.761719651146815e-38)\n",
      "Test Kołomogorowa – Smirnowa: KstestResult(statistic=1.0, pvalue=0.0, statistic_location=13, statistic_sign=-1)\n",
      "Test Lillieforsa: (0.0786937887537918, 0.0009999999999998899)\n",
      "\n",
      "Kolumna: Critic_Count\n",
      "Test Shapiro-Wilka: ShapiroResult(statistic=0.9195757508277893, pvalue=0.0)\n",
      "Test Kołomogorowa – Smirnowa: KstestResult(statistic=0.9998218086116467, pvalue=0.0, statistic_location=4, statistic_sign=-1)\n",
      "Test Lillieforsa: (0.10335873472225349, 0.0009999999999998899)\n",
      "\n",
      "Pvalue wszystkich zmiennych jest < 0.05, więc odrzucamy hipotezę zerową więc ich rozkład nie jest normalny.\n"
     ]
    },
    {
     "name": "stderr",
     "output_type": "stream",
     "text": [
      "C:\\Python310\\lib\\site-packages\\scipy\\stats\\_morestats.py:1816: UserWarning: p-value may not be accurate for N > 5000.\n",
      "  warnings.warn(\"p-value may not be accurate for N > 5000.\")\n"
     ]
    }
   ],
   "source": [
    "from scipy import stats\n",
    "from statsmodels.stats.diagnostic import lilliefors\n",
    "\n",
    "columns = ['NA_Sales', 'EU_Sales', 'Critic_Score', 'Critic_Count']\n",
    "\n",
    "# H0 : Zmienne 'NA_Sales', 'EU_Sales', 'Critic_Score', 'Critic_Count' mają rozkład normalny.\n",
    "# H1 : Zmienne 'NA_Sales', 'EU_Sales', 'Critic_Score', 'Critic_Count' nie mają rozkładu normalnego.\n",
    "\n",
    "for column in columns:\n",
    "    shapiro_results = stats.shapiro(df[column])\n",
    "\n",
    "    ks_results = stats.kstest(df[column], 'norm')\n",
    "\n",
    "    lilliefors_results = lilliefors(df[column])\n",
    "\n",
    "    # Print the results\n",
    "    print(f'Kolumna: {column}')\n",
    "    print('Test Shapiro-Wilka:', shapiro_results)\n",
    "    print('Test Kołomogorowa – Smirnowa:', ks_results)\n",
    "    print('Test Lillieforsa:', lilliefors_results)\n",
    "    print()\n",
    "    \n",
    "print(\"Pvalue wszystkich zmiennych jest < 0.05, więc odrzucamy hipotezę zerową więc ich rozkład nie jest normalny.\")"
   ]
  },
  {
   "cell_type": "code",
   "execution_count": 18,
   "id": "911dcd63",
   "metadata": {},
   "outputs": [
    {
     "name": "stdout",
     "output_type": "stream",
     "text": [
      "Test ANOVA: Statystyka = 414.4237319347391, p-wartość = 2.721379311330356e-263\n",
      "Pvalue jest < 0.05 odrzucamy hipotezę zerową, więc istnieje istotna różnica między średnią sprzedażą w różnych regionach\n"
     ]
    }
   ],
   "source": [
    "from scipy.stats import f_oneway\n",
    "\n",
    "# H0 : Nie ma istotnej różnicy między średnią sprzedażą w różnych regionach.\n",
    "# H1 : Różnica między średnią sprzedażą w różnych regionach jest istotna.\n",
    "\n",
    "na_sales = df[\"NA_Sales\"]\n",
    "eu_sales = df[\"EU_Sales\"]\n",
    "jp_sales = df[\"JP_Sales\"]\n",
    "other_sales = df[\"Other_Sales\"]\n",
    "\n",
    "f_stat, f_pvalue = f_oneway(na_sales, eu_sales, jp_sales, other_sales)\n",
    "print(f\"Test ANOVA: Statystyka = {f_stat}, p-wartość = {f_pvalue}\")\n",
    "print(\"Pvalue jest < 0.05 odrzucamy hipotezę zerową, więc istnieje istotna różnica między średnią sprzedażą w różnych regionach\")"
   ]
  },
  {
   "cell_type": "code",
   "execution_count": 19,
   "id": "baae915b",
   "metadata": {},
   "outputs": [
    {
     "name": "stdout",
     "output_type": "stream",
     "text": [
      "Test Levene'a: Statystyka = 298.93774732362385, p-value = 5.780531871654576e-191\n",
      "P-value jest < 0.05 odrzucamy hipotezę zerową, więc wariancje nie są równe.\n"
     ]
    }
   ],
   "source": [
    "from scipy.stats import levene\n",
    "\n",
    "# H0 : Wariancje liczb sprzedanych kopii gier między regionami są równe.\n",
    "# H1 : Wariancje liczb sprzedanych kopii gier między regionami nie są równe.\n",
    "\n",
    "levene_stat, levene_pvalue = levene(na_sales, eu_sales, jp_sales, other_sales)\n",
    "print(f\"Test Levene'a: Statystyka = {levene_stat}, p-value = {levene_pvalue}\")\n",
    "print(\"P-value jest < 0.05 odrzucamy hipotezę zerową, więc wariancje nie są równe.\")"
   ]
  },
  {
   "cell_type": "code",
   "execution_count": 20,
   "id": "3853ac91",
   "metadata": {},
   "outputs": [],
   "source": [
    "df['Total_Sales'] = na_sales + eu_sales + jp_sales + other_sales"
   ]
  },
  {
   "cell_type": "code",
   "execution_count": 21,
   "id": "920a3503",
   "metadata": {},
   "outputs": [
    {
     "name": "stdout",
     "output_type": "stream",
     "text": [
      "Korelacja Pearsona: 0.46860734911026697, p-value: 0.0\n",
      "P-value jest < 0.05 odrzucamy hipotezę zerową, więc istnieje zależność między liczbą sprzedanych kopii w Ameryce Północnej, a w Japonii.\n"
     ]
    }
   ],
   "source": [
    "from scipy.stats import pearsonr\n",
    "\n",
    "# H0: Nie istnieje zależność między liczbą sprzedanych kopii w Ameryce Północnej, a w Japonii.\n",
    "# H1: Istnieje zależność między liczbą sprzedanych kopii w Ameryce Północnej, a w Japonii.\n",
    "\n",
    "correlation_stat, p_value = pearsonr(na_sales, jp_sales)\n",
    "print(f\"Korelacja Pearsona: {correlation_stat}, p-value: {p_value}\")\n",
    "print(\"P-value jest < 0.05 odrzucamy hipotezę zerową, więc istnieje zależność między liczbą sprzedanych kopii w Ameryce Północnej, a w Japonii.\")"
   ]
  },
  {
   "cell_type": "code",
   "execution_count": 22,
   "id": "d7f2e516",
   "metadata": {},
   "outputs": [
    {
     "name": "stdout",
     "output_type": "stream",
     "text": [
      "Korelacja Pearsona: 0.23755507999330613, p-value: 3.517599461271442e-88\n",
      "P-value jest < 0.05 odrzucamy hipotezę zerową, więc istnieje zależność między oceną krytyków, a ogólną sprzedażą.\n"
     ]
    }
   ],
   "source": [
    "# H0: Nie istnieje zależność między oceną krytyków, ogólną sprzedażą.\n",
    "# H1: Istnieje zależność między oceną krytyków, ogólną sprzedażą.\n",
    "\n",
    "correlation_stat, p_value = pearsonr(df['Critic_Score'], df['Total_Sales'])\n",
    "print(f\"Korelacja Pearsona: {correlation_stat}, p-value: {p_value}\")\n",
    "print(\"P-value jest < 0.05 odrzucamy hipotezę zerową, więc istnieje zależność między oceną krytyków, a ogólną sprzedażą.\")"
   ]
  },
  {
   "cell_type": "code",
   "execution_count": 23,
   "id": "74bfb025",
   "metadata": {},
   "outputs": [
    {
     "name": "stdout",
     "output_type": "stream",
     "text": [
      "T-stat = -1.4432463986984838, p-value= 0.9252790630064545\n",
      "P-value jest > 0.05 nie odrzucamy hipotezy zerowej, więc że nie mamy wystarczających dowodów, aby stwierdzić że średnia sprzedaż była większa w 2015 niż w 2010 roku.\n"
     ]
    }
   ],
   "source": [
    "from scipy.stats import ttest_ind\n",
    "\n",
    "# H0: Średnia sprzedaż gier nie była większa w 2015 niż 2010.\n",
    "# H1: Średnia sprzedaż gier była większa w 2015 niż 2010.\n",
    "\n",
    "sales_2010 = df[df['Release_Date'] == 2010]['Total_Sales']\n",
    "sales_2015 = df[df['Release_Date'] == 2015]['Total_Sales']\n",
    "\n",
    "# przeprowadzenie testu t\n",
    "t_stat, p_val = stats.ttest_ind(sales_2015, sales_2010, alternative='greater')\n",
    "\n",
    "print(f'T-stat = {t_stat}, p-value= {p_val}')\n",
    "print(\"P-value jest > 0.05 nie odrzucamy hipotezy zerowej, więc że nie mamy wystarczających dowodów, aby stwierdzić że średnia sprzedaż była większa w 2015 niż w 2010 roku.\")"
   ]
  },
  {
   "cell_type": "code",
   "execution_count": 24,
   "id": "72b38092",
   "metadata": {},
   "outputs": [
    {
     "name": "stdout",
     "output_type": "stream",
     "text": [
      "T-stat = 8.550143597586633, p-value= 3.588366891976883e-17\n",
      "P-value jest < 0.05 odrzucamy hipotezę zerową, więc przyjmujemy hipotezę że gry Nintendo sprzedają się lepiej niż EA.\n"
     ]
    }
   ],
   "source": [
    "# H0: Średnia sprzedaż gier Nintendo i EA jest równa.\n",
    "# H1: Średnia sprzedaż gier Nintendo jest większa niż EA.\n",
    "\n",
    "nintendo_sales = df[df['Publisher'] == 'Nintendo']['Total_Sales']\n",
    "ea_sales = df[df['Publisher'] == 'Electronic Arts']['Total_Sales']\n",
    "\n",
    "t_stat, p_val = stats.ttest_ind(nintendo_sales, ea_sales)\n",
    "print(f'T-stat = {t_stat}, p-value= {p_val}')\n",
    "print(\"P-value jest < 0.05 odrzucamy hipotezę zerową, więc przyjmujemy hipotezę że gry Nintendo sprzedają się lepiej niż EA.\")"
   ]
  },
  {
   "cell_type": "code",
   "execution_count": 29,
   "id": "1bb83015",
   "metadata": {},
   "outputs": [
    {
     "name": "stdout",
     "output_type": "stream",
     "text": [
      "t-statystyka: 11.026800039682623, p-wartość: 3.730990653234972e-28\n",
      "P-value jest < 0.05 odrzucamy hipotezę zerową, więc średnie wartości ogólnej sprzedaży w Ameryce Północnej, a Europie różnią się od siebie.\n"
     ]
    }
   ],
   "source": [
    "# H0: Średnie wartości sprzedaży w Ameryce Północnej, a Europie nie różnią się od siebie.\n",
    "# H1: Średnie wartości sprzedaży w Ameryce Północnej, a Europie różnią się od siebie.\n",
    "\n",
    "t_stat, p_val = stats.ttest_ind(df['NA_Sales'], df['EU_Sales'])\n",
    "print(f\"t-statystyka: {t_stat}, p-wartość: {p_val}\")\n",
    "print(\"P-value jest < 0.05 odrzucamy hipotezę zerową, więc średnie wartości ogólnej sprzedaży w Ameryce Północnej, a Europie różnią się od siebie.\")"
   ]
  },
  {
   "cell_type": "code",
   "execution_count": 26,
   "id": "3b8b8e9d",
   "metadata": {},
   "outputs": [
    {
     "name": "stdout",
     "output_type": "stream",
     "text": [
      "T-stat = -3.0434974219539432, p-value= 0.0024427241826905964\n",
      "P-value jest < 0.05 odrzucamy hipotezę zerową, więc przyjmujemy hipotezę że średnia sprzedaż w Ameryce Północnej w 2007 roku nie wynosiła 500 000.\n"
     ]
    }
   ],
   "source": [
    "#H0 : Średnia sprzedaż w Ameryce Północnej w 2007 roku wynosiła 500 000.\n",
    "#H1 : Średnia sprzedaż w Ameryce Północnej w 2007 roku nie wynosiła 500 000.\n",
    "\n",
    "df_2007 = df[df['Release_Date'] == 2007]\n",
    "mean_sales = df_2007['NA_Sales'].mean()\n",
    "\n",
    "t_stat, p_val = stats.ttest_1samp(df_2007['NA_Sales'], 500000)\n",
    "print(f'T-stat = {t_stat}, p-value= {p_val}')\n",
    "print(\"P-value jest < 0.05 odrzucamy hipotezę zerową, więc przyjmujemy hipotezę że średnia sprzedaż w Ameryce Północnej w 2007 roku nie wynosiła 500 000.\")"
   ]
  }
 ],
 "metadata": {
  "kernelspec": {
   "display_name": "Python 3 (ipykernel)",
   "language": "python",
   "name": "python3"
  },
  "language_info": {
   "codemirror_mode": {
    "name": "ipython",
    "version": 3
   },
   "file_extension": ".py",
   "mimetype": "text/x-python",
   "name": "python",
   "nbconvert_exporter": "python",
   "pygments_lexer": "ipython3",
   "version": "3.10.10"
  }
 },
 "nbformat": 4,
 "nbformat_minor": 5
}
